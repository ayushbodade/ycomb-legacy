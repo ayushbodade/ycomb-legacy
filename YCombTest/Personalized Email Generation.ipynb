{
 "cells": [
  {
   "cell_type": "code",
   "execution_count": 1,
   "id": "d3058a52",
   "metadata": {},
   "outputs": [],
   "source": [
    "from langchain.document_loaders import UnstructuredURLLoader\n",
    "from langchain.chains.summarize import load_summarize_chain\n",
    "from langchain.llms import OpenAI\n",
    "from langchain.text_splitter import RecursiveCharacterTextSplitter\n",
    "from langchain.prompts import PromptTemplate"
   ]
  },
  {
   "cell_type": "code",
   "execution_count": 2,
   "id": "69d427bb",
   "metadata": {},
   "outputs": [
    {
     "name": "stdout",
     "output_type": "stream",
     "text": [
      "https://www.ycombinator.com/companies/meesho\n",
      "You have 1 document(s)\n"
     ]
    }
   ],
   "source": [
    "def get_company_page(company_path):\n",
    "    y_combinator_url = f\"https://www.ycombinator.com{company_path}\"\n",
    "    \n",
    "    print (y_combinator_url)\n",
    "\n",
    "    loader = UnstructuredURLLoader(urls=[y_combinator_url])\n",
    "    return loader.load()\n",
    "\n",
    "\n",
    "# Get the data of the company you're interested in\n",
    "data = get_company_page(\"/companies/meesho\")\n",
    "    \n",
    "print(f\"You have {len(data)} document(s)\")"
   ]
  },
  {
   "cell_type": "code",
   "execution_count": 3,
   "id": "cf5c4961",
   "metadata": {},
   "outputs": [
    {
     "name": "stdout",
     "output_type": "stream",
     "text": [
      "Preview of your data:\n",
      "\n",
      "Accelerator\n",
      "\n",
      "About\n",
      "\n",
      "Apply\n",
      "\n",
      "FAQ\n",
      "\n",
      "People\n",
      "\n",
      "YC Blog\n",
      "\n",
      "C\n"
     ]
    }
   ],
   "source": [
    "print (f\"Preview of your data:\\n\\n{data[0].page_content[:50]}\")"
   ]
  },
  {
   "cell_type": "code",
   "execution_count": 4,
   "id": "d0fdfece",
   "metadata": {},
   "outputs": [],
   "source": [
    "# Split up the texts so you don't run into token limits\n",
    "text_splitter = RecursiveCharacterTextSplitter(\n",
    "    # Set a really small chunk size, just to show.\n",
    "    chunk_size = 800,\n",
    "    chunk_overlap  = 0\n",
    ")"
   ]
  },
  {
   "cell_type": "code",
   "execution_count": 8,
   "id": "a9e30ed0",
   "metadata": {},
   "outputs": [
    {
     "name": "stdout",
     "output_type": "stream",
     "text": [
      "You now have 22 documents\n"
     ]
    },
    {
     "ename": "TypeError",
     "evalue": "object of type 'Document' has no len()",
     "output_type": "error",
     "traceback": [
      "\u001b[0;31m---------------------------------------------------------------------------\u001b[0m",
      "\u001b[0;31mTypeError\u001b[0m                                 Traceback (most recent call last)",
      "Cell \u001b[0;32mIn[8], line 5\u001b[0m\n\u001b[1;32m      1\u001b[0m docs \u001b[39m=\u001b[39m text_splitter\u001b[39m.\u001b[39msplit_documents(data)\n\u001b[1;32m      3\u001b[0m \u001b[39mprint\u001b[39m (\u001b[39mf\u001b[39m\u001b[39m\"\u001b[39m\u001b[39mYou now have \u001b[39m\u001b[39m{\u001b[39;00m\u001b[39mlen\u001b[39m(docs)\u001b[39m}\u001b[39;00m\u001b[39m documents\u001b[39m\u001b[39m\"\u001b[39m)\n\u001b[0;32m----> 5\u001b[0m \u001b[39mprint\u001b[39m(\u001b[39mlen\u001b[39;49m(docs[\u001b[39m0\u001b[39;49m]))\n",
      "\u001b[0;31mTypeError\u001b[0m: object of type 'Document' has no len()"
     ]
    }
   ],
   "source": [
    "docs = text_splitter.split_documents(data)\n",
    "\n",
    "print (f\"You now have {len(docs)} documents\")"
   ]
  },
  {
   "cell_type": "markdown",
   "id": "515de61f",
   "metadata": {},
   "source": [
    "### Write your custom prompt templates\n",
    "These will be used for your specific use case:\n",
    "\n",
    "1. `map_prompt` will be the prompt that is done on your first pass of your documents\n",
    "2. `combine_prompt` will be the prompt that is used when you combine the outputs of your map pass"
   ]
  },
  {
   "cell_type": "code",
   "execution_count": 6,
   "id": "fb34ba34",
   "metadata": {},
   "outputs": [],
   "source": [
    "map_prompt = \"\"\"Below is a section of a website about {prospect}\n",
    "\n",
    "Write a concise summary about {prospect}. If the information is not about {prospect}, exclude it from your summary.\n",
    "\n",
    "{text}\n",
    "\n",
    "% CONCISE SUMMARY:\"\"\"\n",
    "map_prompt_template = PromptTemplate(template=map_prompt, input_variables=[\"text\", \"prospect\"])"
   ]
  },
  {
   "cell_type": "code",
   "execution_count": null,
   "id": "481b1fe2",
   "metadata": {},
   "outputs": [],
   "source": [
    "combine_prompt = \"\"\"\n",
    "Your goal is to write a personalized outbound email from {sales_rep}, a sales rep at {company} to {prospect}.\n",
    "\n",
    "A good email is personalized and combines information about the two companies on how they can help each other.\n",
    "Be sure to use value selling: A sales methodology that focuses on how your product or service will provide value to the customer instead of focusing on price or solution.\n",
    "\n",
    "% INFORMATION ABOUT {company}:\n",
    "{company_information}\n",
    "\n",
    "% INFORMATION ABOUT {prospect}:\n",
    "{text}\n",
    "\n",
    "% INCLUDE THE FOLLOWING PIECES IN YOUR RESPONSE:\n",
    "- Start the email with the sentence: \"We love that {prospect} helps teams...\" then insert what they help teams do.\n",
    "- The sentence: \"We can help you do XYZ by ABC\" Replace XYZ with what {prospect} does and ABC with what {company} does \n",
    "- A 1-2 sentence description about {company}, be brief\n",
    "- End your email with a call-to-action such as asking them to set up time to talk more\n",
    "\n",
    "% YOUR RESPONSE:\n",
    "\"\"\"\n",
    "combine_prompt_template = PromptTemplate(template=combine_prompt, input_variables=[\"sales_rep\", \"company\", \"prospect\", \\\n",
    "                                                                         \"text\", \"company_information\"])"
   ]
  },
  {
   "cell_type": "code",
   "execution_count": null,
   "id": "340842c5",
   "metadata": {},
   "outputs": [],
   "source": [
    "company_information = \"\"\"\n",
    "* RapidRoad helps product teams build product faster\n",
    "* We have a platform that allows product teams to talk more, exchange ideas, and listen to more customers\n",
    "* Automated project tracking: RapidRoad could use machine learning algorithms to automatically track project progress, identify potential bottlenecks, and suggest ways to optimize workflows. This could help product teams stay on track and deliver faster results.\n",
    "* Collaboration tools: RapidRoad could offer built-in collaboration tools, such as shared task lists, real-time messaging, and team calendars. This would make it easier for teams to communicate and work together, even if they are in different locations or time zones.\n",
    "* Agile methodology support: RapidRoad could be specifically designed to support agile development methodologies, such as Scrum or Kanban. This could include features like sprint planning, backlog management, and burndown charts, which would help teams stay organized and focused on their goals.\n",
    "\"\"\""
   ]
  },
  {
   "cell_type": "markdown",
   "id": "82406bae",
   "metadata": {},
   "source": [
    "### LangChain Magic"
   ]
  },
  {
   "cell_type": "code",
   "execution_count": null,
   "id": "32f28761",
   "metadata": {},
   "outputs": [],
   "source": [
    "llm = OpenAI(temperature=.7, openai_api_key=openai_api_key)\n",
    "\n",
    "chain = load_summarize_chain(llm,\n",
    "                             chain_type=\"map_reduce\",\n",
    "                             map_prompt=map_prompt_template,\n",
    "                             combine_prompt=combine_prompt_template,\n",
    "                             verbose=True\n",
    "                            )"
   ]
  },
  {
   "cell_type": "code",
   "execution_count": null,
   "id": "5b556562",
   "metadata": {},
   "outputs": [],
   "source": [
    "output = chain({\"input_documents\": docs, # The seven docs that were created before\n",
    "                \"company\": \"RapidRoad\", \\\n",
    "                \"company_information\" : company_information,\n",
    "                \"sales_rep\" : \"Greg\", \\\n",
    "                \"prospect\" : \"Poly\"\n",
    "               })"
   ]
  },
  {
   "cell_type": "code",
   "execution_count": null,
   "id": "c3152c06",
   "metadata": {},
   "outputs": [],
   "source": [
    "print (output['output_text'])"
   ]
  },
  {
   "cell_type": "markdown",
   "id": "5491e5bb",
   "metadata": {},
   "source": [
    "### Rinse and Repeat: Loop Through Companies"
   ]
  },
  {
   "cell_type": "code",
   "execution_count": null,
   "id": "ddf9a955",
   "metadata": {},
   "outputs": [],
   "source": [
    "import pandas as pd\n",
    "import company_list"
   ]
  },
  {
   "cell_type": "code",
   "execution_count": null,
   "id": "70e22389",
   "metadata": {},
   "outputs": [],
   "source": [
    "df_companies_data = {'company_name':company_list.COMPANY_LIST}\n",
    "df_companies = pd.DataFrame(df_companies_data)\n",
    "df_companies"
   ]
  },
  {
   "cell_type": "code",
   "execution_count": null,
   "id": "094bb943",
   "metadata": {},
   "outputs": [],
   "source": [
    "for i, company in df_companies.iterrows():\n",
    "    print (f\"{i + 1}. {company['Name']}\")\n",
    "    page_data = get_company_page(company['Link'])\n",
    "    docs = text_splitter.split_documents(page_data)\n",
    "\n",
    "    output = chain({\"input_documents\": docs, \\\n",
    "                \"company\":\"Predoole Analytics\", \\\n",
    "                \"sales_rep\" : \"A B\", \\\n",
    "                \"prospect\" : company['Name'],\n",
    "                \"company_information\" : company_information\n",
    "               })\n",
    "    \n",
    "    print (output['output_text'])\n",
    "    print (\"\\n\\n\")"
   ]
  }
 ],
 "metadata": {
  "kernelspec": {
   "display_name": "Python 3 (ipykernel)",
   "language": "python",
   "name": "python3"
  },
  "language_info": {
   "codemirror_mode": {
    "name": "ipython",
    "version": 3
   },
   "file_extension": ".py",
   "mimetype": "text/x-python",
   "name": "python",
   "nbconvert_exporter": "python",
   "pygments_lexer": "ipython3",
   "version": "3.11.4"
  }
 },
 "nbformat": 4,
 "nbformat_minor": 5
}
